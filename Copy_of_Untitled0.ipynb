{
  "nbformat": 4,
  "nbformat_minor": 0,
  "metadata": {
    "colab": {
      "provenance": [],
      "include_colab_link": true
    },
    "kernelspec": {
      "name": "python3",
      "display_name": "Python 3"
    },
    "language_info": {
      "name": "python"
    }
  },
  "cells": [
    {
      "cell_type": "markdown",
      "metadata": {
        "id": "view-in-github",
        "colab_type": "text"
      },
      "source": [
        "<a href=\"https://colab.research.google.com/github/vikasjejurkar/My-Portfolio/blob/master/Copy_of_Untitled0.ipynb\" target=\"_parent\"><img src=\"https://colab.research.google.com/assets/colab-badge.svg\" alt=\"Open In Colab\"/></a>"
      ]
    },
    {
      "cell_type": "code",
      "execution_count": null,
      "metadata": {
        "colab": {
          "base_uri": "https://localhost:8080/"
        },
        "id": "KI3CcB7XCxjV",
        "outputId": "094c6d21-e164-4492-8258-6b64683c6547"
      },
      "outputs": [
        {
          "output_type": "stream",
          "name": "stdout",
          "text": [
            "[0, 1, 1, 2, 3, 5, 8, 13, 21, 34]\n"
          ]
        }
      ],
      "source": [
        "# practical 1 Fibonacci Series\n",
        "# Iterative approach\n",
        "def fibonacci_series(n):\n",
        "    fib = [0, 1]\n",
        "    for i in range(2, n):\n",
        "        fib.append(fib[i-1] + fib[i-2])\n",
        "    return fib\n",
        "# Example Usage\n",
        "print(fibonacci_series(10))"
      ]
    },
    {
      "cell_type": "code",
      "source": [
        "# Importing libraries\n",
        "import pandas as pd\n",
        "from sklearn.preprocessing import StandardScaler\n",
        "\n",
        "# Creating a sample dataset\n",
        "data = {\n",
        "    'Height': [5.5, 6.0, 5.8, 5.6, 5.9],\n",
        "    'Weight': [65, 80, 75, 68, 72],\n",
        "    'Age': [25, 30, 28, 26, 29]\n",
        "}\n",
        "df = pd.DataFrame(data)\n",
        "\n",
        "# Displaying the dataset\n",
        "print(\"Original Dataset:\\n\", df)\n",
        "\n",
        "# Feature scaling using StandardScaler\n",
        "scaler = StandardScaler()\n",
        "scaled_features = scaler.fit_transform(df)\n",
        "\n",
        "# Converting scaled features back to a DataFrame\n",
        "scaled_df = pd.DataFrame(scaled_features, columns=['Height', 'Weight', 'Age'])\n",
        "print(\"\\nScaled Dataset:\\n\", scaled_df)"
      ],
      "metadata": {
        "colab": {
          "base_uri": "https://localhost:8080/"
        },
        "id": "prSx30Q3DO6H",
        "outputId": "d0d97951-a022-4db6-b35f-5605bd79caba"
      },
      "execution_count": null,
      "outputs": [
        {
          "output_type": "stream",
          "name": "stdout",
          "text": [
            "Original Dataset:\n",
            "    Height  Weight  Age\n",
            "0     5.5      65   25\n",
            "1     6.0      80   30\n",
            "2     5.8      75   28\n",
            "3     5.6      68   26\n",
            "4     5.9      72   29\n",
            "\n",
            "Scaled Dataset:\n",
            "      Height    Weight       Age\n",
            "0 -1.401826 -1.332427 -1.401826\n",
            "1  1.293993  1.522774  1.293993\n",
            "2  0.215666  0.571040  0.215666\n",
            "3 -0.862662 -0.761387 -0.862662\n",
            "4  0.754829  0.000000  0.754829\n"
          ]
        }
      ]
    },
    {
      "cell_type": "code",
      "source": [
        "#Practical 2 Depth first search algorithm.\n",
        "def dfs(graph, start, visited=None):\n",
        "    if visited is None:\n",
        "        visited = set()\n",
        "    visited.add(start)\n",
        "    print(start, end=' ')\n",
        "    for neighbor in graph[start]:\n",
        "        if neighbor not in visited:\n",
        "            dfs(graph, neighbor, visited)\n",
        "\n",
        "# Example Usage\n",
        "graph = {\n",
        "    'A': ['B', 'C'],\n",
        "    'B': ['A', 'D', 'E'],\n",
        "    'C': ['A', 'F'],\n",
        "    'D': ['B'],\n",
        "    'E': ['B', 'F'],\n",
        "    'F': ['C', 'E']\n",
        "}\n",
        "dfs(graph, 'A')"
      ],
      "metadata": {
        "colab": {
          "base_uri": "https://localhost:8080/"
        },
        "id": "Fs0-k1ieC9Kj",
        "outputId": "95b920a0-31bb-4e0a-df5d-93aa68e846fc"
      },
      "execution_count": null,
      "outputs": [
        {
          "output_type": "stream",
          "name": "stdout",
          "text": [
            "A B D E F C "
          ]
        }
      ]
    },
    {
      "cell_type": "code",
      "source": [
        "#practical 3 Breadth First Search (BFS) Algorithm.\n",
        "from collections import deque\n",
        "\n",
        "def bfs(graph, start):\n",
        "    visited = set()\n",
        "    queue = deque([start])\n",
        "    visited.add(start)\n",
        "    while queue:\n",
        "        node = queue.popleft()\n",
        "        print(node, end=' ')\n",
        "        for neighbor in graph[node]:\n",
        "            if neighbor not in visited:\n",
        "                visited.add(neighbor)\n",
        "                queue.append(neighbor)\n",
        "\n",
        "# Example Usage\n",
        "graph = {\n",
        "    'A': ['B', 'C'],\n",
        "    'B': ['A', 'D', 'E'],\n",
        "    'C': ['A', 'F'],\n",
        "    'D': ['B'],\n",
        "    'E': ['B', 'F'],\n",
        "    'F': ['C', 'E']\n",
        "}\n",
        "bfs(graph, 'A')\n"
      ],
      "metadata": {
        "colab": {
          "base_uri": "https://localhost:8080/"
        },
        "id": "qWReV0DFDFQs",
        "outputId": "88ca8c91-2410-4697-84bc-85aaaba800eb"
      },
      "execution_count": null,
      "outputs": [
        {
          "output_type": "stream",
          "name": "stdout",
          "text": [
            "A B C D E F "
          ]
        }
      ]
    },
    {
      "cell_type": "code",
      "source": [
        "#practical 4 Write a python program to compute\n",
        "# i) Central Tendency Measures: Mean, Median, Mode\n",
        "# ii) Measure of Dispersion: Variance, Standard Deviation\n",
        "\n",
        "import numpy as np\n",
        "import statistics as stats\n",
        "\n",
        "# Sample data\n",
        "data = [12, 15, 12, 15, 19, 21, 23, 25, 23, 22]\n",
        "\n",
        "# Central Tendency\n",
        "mean = np.mean(data)\n",
        "median = np.median(data)\n",
        "mode = stats.mode(data)\n",
        "\n",
        "# Dispersion\n",
        "variance = np.var(data)\n",
        "std_dev = np.std(data)\n",
        "\n",
        "# Output\n",
        "print(\"Mean:\", mean)\n",
        "print(\"Median:\", median)\n",
        "print(\"Mode:\", mode)\n",
        "print(\"Variance:\", variance)\n",
        "print(\"Standard Deviation:\", std_dev)\n"
      ],
      "metadata": {
        "colab": {
          "base_uri": "https://localhost:8080/"
        },
        "id": "sBL1c60wDcyJ",
        "outputId": "892377e1-38b3-467c-85a0-75285441997f"
      },
      "execution_count": null,
      "outputs": [
        {
          "output_type": "stream",
          "name": "stdout",
          "text": [
            "Mean: 18.7\n",
            "Median: 20.0\n",
            "Mode: 12\n",
            "Variance: 21.01\n",
            "Standard Deviation: 4.583666654546336\n"
          ]
        }
      ]
    },
    {
      "cell_type": "code",
      "source": [
        "#Practical 5 Study of basic python lib such as statistics,math,numpy and scipy\n",
        "# Importing libraries\n",
        "import math\n",
        "import statistics\n",
        "import numpy as np\n",
        "from scipy import stats\n",
        "\n",
        "# Using Math Library\n",
        "log_result = math.log(100, 10)  # Logarithm base 10\n",
        "sin_result = math.sin(math.pi / 2)  # Sine of 90 degrees\n",
        "\n",
        "# Using Statistics Library\n",
        "data = [10, 20, 20, 30, 40]\n",
        "mean_result = statistics.mean(data)  # Mean of the dataset\n",
        "median_result = statistics.median(data)  # Median of the dataset\n",
        "\n",
        "# Using Numpy\n",
        "array = np.array([1, 2, 3, 4, 5])\n",
        "array_sum = np.sum(array)  # Sum of elements in the array\n",
        "array_mean = np.mean(array)  # Mean of the array\n",
        "\n",
        "# Using Scipy\n",
        "mode_result = stats.mode(data)  # Mode of the dataset\n",
        "\n",
        "# Output results\n",
        "print(\"Math Library:\")\n",
        "print(f\"Logarithm of 100 base 10: {log_result}\")\n",
        "print(f\"Sine of 90 degrees: {sin_result}\")\n",
        "\n",
        "print(\"\\nStatistics Library:\")\n",
        "print(f\"Mean: {mean_result}, Median: {median_result}\")\n",
        "\n",
        "print(\"\\nNumpy Library:\")\n",
        "print(f\"Sum of array: {array_sum}, Mean of array: {array_mean}\")\n",
        "\n",
        "print(\"\\nScipy Library:\")\n",
        "print(f\"Mode: {mode_result.mode}, Frequency: {mode_result.count}\")\n"
      ],
      "metadata": {
        "colab": {
          "base_uri": "https://localhost:8080/"
        },
        "id": "oAQ9sEPMDh37",
        "outputId": "5d017d53-4be2-4ea4-926f-9cd70b4170e4"
      },
      "execution_count": null,
      "outputs": [
        {
          "output_type": "stream",
          "name": "stdout",
          "text": [
            "Math Library:\n",
            "Logarithm of 100 base 10: 2.0\n",
            "Sine of 90 degrees: 1.0\n",
            "\n",
            "Statistics Library:\n",
            "Mean: 24, Median: 20\n",
            "\n",
            "Numpy Library:\n",
            "Sum of array: 15, Mean of array: 3.0\n",
            "\n",
            "Scipy Library:\n",
            "Mode: 20, Frequency: 2\n"
          ]
        }
      ]
    },
    {
      "cell_type": "code",
      "source": [
        "#Practical 6 Study of python libraries for ML appln such as pandas Matplotlib\n",
        "# Importing libraries\n",
        "import pandas as pd\n",
        "import matplotlib.pyplot as plt\n",
        "\n",
        "# Creating a sample DataFrame\n",
        "data = {\n",
        "    'Name': ['Alice', 'Bob', 'Charlie', 'David', 'Eva'],\n",
        "    'Age': [25, 30, 35, 40, 45],\n",
        "    'Salary': [50000, 60000, 70000, 80000, 90000]\n",
        "}\n",
        "df = pd.DataFrame(data)\n",
        "\n",
        "# Displaying the DataFrame\n",
        "print(\"DataFrame:\\n\", df)\n",
        "\n",
        "# Plotting the data\n",
        "plt.figure(figsize=(8, 5))\n",
        "plt.bar(df['Name'], df['Salary'], color='skyblue')\n",
        "plt.title('Salary Comparison')\n",
        "plt.xlabel('Name')\n",
        "plt.ylabel('Salary')\n",
        "plt.show()\n",
        "\n",
        "# Statistical summary of the dataset\n",
        "print(\"\\nStatistical Summary:\\n\", df.describe())\n"
      ],
      "metadata": {
        "colab": {
          "base_uri": "https://localhost:8080/",
          "height": 786
        },
        "id": "oM7i-vDqD1fm",
        "outputId": "6349492d-f60a-4119-9a6e-2ae5f85858fe"
      },
      "execution_count": null,
      "outputs": [
        {
          "output_type": "stream",
          "name": "stdout",
          "text": [
            "DataFrame:\n",
            "       Name  Age  Salary\n",
            "0    Alice   25   50000\n",
            "1      Bob   30   60000\n",
            "2  Charlie   35   70000\n",
            "3    David   40   80000\n",
            "4      Eva   45   90000\n"
          ]
        },
        {
          "output_type": "display_data",
          "data": {
            "text/plain": [
              "<Figure size 800x500 with 1 Axes>"
            ],
            "image/png": "[encoded data removed]"
          },
          "metadata": {}
        },
        {
          "output_type": "stream",
          "name": "stdout",
          "text": [
            "\n",
            "Statistical Summary:\n",
            "              Age        Salary\n",
            "count   5.000000      5.000000\n",
            "mean   35.000000  70000.000000\n",
            "std     7.905694  15811.388301\n",
            "min    25.000000  50000.000000\n",
            "25%    30.000000  60000.000000\n",
            "50%    35.000000  70000.000000\n",
            "75%    40.000000  80000.000000\n",
            "max    45.000000  90000.000000\n"
          ]
        }
      ]
    },
    {
      "cell_type": "code",
      "source": [
        "#Practical 7 To extract features from given data set and establish training data\n",
        "# Importing libraries\n",
        "import pandas as pd\n",
        "from sklearn.preprocessing import StandardScaler\n",
        "\n",
        "# Creating a sample dataset\n",
        "data = {\n",
        "    'Height': [5.5, 6.0, 5.8, 5.6, 5.9],\n",
        "    'Weight': [65, 80, 75, 68, 72],\n",
        "    'Age': [25, 30, 28, 26, 29]\n",
        "}\n",
        "df = pd.DataFrame(data)\n",
        "\n",
        "# Displaying the dataset\n",
        "print(\"Original Dataset:\\n\", df)\n",
        "\n",
        "# Feature scaling using StandardScaler\n",
        "scaler = StandardScaler()\n",
        "scaled_features = scaler.fit_transform(df)\n",
        "\n",
        "# Converting scaled features back to a DataFrame\n",
        "scaled_df = pd.DataFrame(scaled_features, columns=['Height', 'Weight', 'Age'])\n",
        "print(\"\\nScaled Dataset:\\n\", scaled_df)"
      ],
      "metadata": {
        "colab": {
          "base_uri": "https://localhost:8080/"
        },
        "id": "KH7O1ZnTEK_n",
        "outputId": "b7870c3e-954d-49a3-b495-062188cf8d56"
      },
      "execution_count": null,
      "outputs": [
        {
          "output_type": "stream",
          "name": "stdout",
          "text": [
            "Original Dataset:\n",
            "    Height  Weight  Age\n",
            "0     5.5      65   25\n",
            "1     6.0      80   30\n",
            "2     5.8      75   28\n",
            "3     5.6      68   26\n",
            "4     5.9      72   29\n",
            "\n",
            "Scaled Dataset:\n",
            "      Height    Weight       Age\n",
            "0 -1.401826 -1.332427 -1.401826\n",
            "1  1.293993  1.522774  1.293993\n",
            "2  0.215666  0.571040  0.215666\n",
            "3 -0.862662 -0.761387 -0.862662\n",
            "4  0.754829  0.000000  0.754829\n"
          ]
        }
      ]
    },
    {
      "cell_type": "code",
      "source": [
        "#Practical 8 To select relevant features using suitable technique\n",
        "# Importing libraries\n",
        "import pandas as pd\n",
        "from sklearn.feature_selection import SelectKBest, f_classif\n",
        "from sklearn.datasets import load_iris\n",
        "\n",
        "# Loading the Iris dataset\n",
        "iris = load_iris()\n",
        "X = pd.DataFrame(iris.data, columns=iris.feature_names)\n",
        "y = iris.target\n",
        "\n",
        "# Feature selection using SelectKBest\n",
        "selector = SelectKBest(score_func=f_classif, k=2)\n",
        "X_new = selector.fit_transform(X, y)\n",
        "# Display selected features\n",
        "selected_features = X.columns[selector.get_support()]\n",
        "print(\"Selected Features:\\n\", selected_features)"
      ],
      "metadata": {
        "colab": {
          "base_uri": "https://localhost:8080/"
        },
        "id": "5iwRnIbUEY04",
        "outputId": "f2aa6188-9c0d-4bb4-901a-9ec7301d5741"
      },
      "execution_count": null,
      "outputs": [
        {
          "output_type": "stream",
          "name": "stdout",
          "text": [
            "Selected Features:\n",
            " Index(['petal length (cm)', 'petal width (cm)'], dtype='object')\n"
          ]
        }
      ]
    }
  ]
}